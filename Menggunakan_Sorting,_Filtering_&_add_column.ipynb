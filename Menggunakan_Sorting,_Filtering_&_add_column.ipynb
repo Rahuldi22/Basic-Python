{
  "nbformat": 4,
  "nbformat_minor": 0,
  "metadata": {
    "colab": {
      "provenance": [],
      "toc_visible": true
    },
    "kernelspec": {
      "name": "python3",
      "display_name": "Python 3"
    },
    "language_info": {
      "name": "python"
    }
  },
  "cells": [
    {
      "cell_type": "code",
      "execution_count": null,
      "metadata": {
        "colab": {
          "base_uri": "https://localhost:8080/"
        },
        "id": "a_EgdcYnA-5a",
        "outputId": "3d008b14-9c6a-4bff-8f0b-b467c881c683"
      },
      "outputs": [
        {
          "output_type": "stream",
          "name": "stdout",
          "text": [
            "Python 3.10.12\n"
          ]
        }
      ],
      "source": [
        "!python --version"
      ]
    },
    {
      "cell_type": "code",
      "source": [
        "import pandas as pd\n",
        "\n",
        "#untuk dapat melihat seluruh kolom dan baris\n",
        "#pd.set_option('display.max_columns', None)\n",
        "#pd.set_option('display.max_rows', None)"
      ],
      "metadata": {
        "id": "nMIF0hv2ByXc"
      },
      "execution_count": null,
      "outputs": []
    },
    {
      "cell_type": "markdown",
      "source": [
        "# Connect google drive"
      ],
      "metadata": {
        "id": "UIKptnaQzWIF"
      }
    },
    {
      "cell_type": "code",
      "source": [
        "from google.colab import drive\n",
        "drive.mount('/content/drive')"
      ],
      "metadata": {
        "colab": {
          "base_uri": "https://localhost:8080/"
        },
        "id": "J9bXSB3HzQMt",
        "outputId": "0ac9a9c1-2625-402a-a03e-549288a17010"
      },
      "execution_count": null,
      "outputs": [
        {
          "output_type": "stream",
          "name": "stdout",
          "text": [
            "Mounted at /content/drive\n"
          ]
        }
      ]
    },
    {
      "cell_type": "markdown",
      "source": [
        "# Read TransJakarta Transaction Data"
      ],
      "metadata": {
        "id": "qnwfeQOyEdOQ"
      }
    },
    {
      "cell_type": "code",
      "source": [
        "df= pd.read_csv(\"/content/drive/MyDrive/MSIB 6 (GreatEdu)/dfTransjakarta.csv\")"
      ],
      "metadata": {
        "id": "VeeAlOBWCSgD"
      },
      "execution_count": null,
      "outputs": []
    },
    {
      "cell_type": "code",
      "source": [
        "df.shape"
      ],
      "metadata": {
        "colab": {
          "base_uri": "https://localhost:8080/"
        },
        "id": "CZvyauU4CEYh",
        "outputId": "aabaf092-a7dc-4e67-f48b-ca8183739c7c"
      },
      "execution_count": null,
      "outputs": [
        {
          "output_type": "execute_result",
          "data": {
            "text/plain": [
              "(37900, 22)"
            ]
          },
          "metadata": {},
          "execution_count": 5
        }
      ]
    },
    {
      "cell_type": "code",
      "source": [
        "df.head()"
      ],
      "metadata": {
        "id": "BnS9iOmKCc1w"
      },
      "execution_count": null,
      "outputs": []
    },
    {
      "cell_type": "markdown",
      "source": [
        "# cara mensorting data"
      ],
      "metadata": {
        "id": "KyViqa3vM1dm"
      }
    },
    {
      "cell_type": "code",
      "source": [
        "# Menampilkan 5 nama penumpang dengan jenis kelamin Female(perempuan) dengan umur yang termuda diantara penumpang perempuan lainnya\n",
        "# sorting by descending\n",
        "Data_Female = df[df['payCardSex'] == 'F'].sort_values(by='payCardBirthDate', ascending=False).head(5)[['payCardName','payCardSex','payCardBirthDate']]\n",
        "Data_Female"
      ],
      "metadata": {
        "colab": {
          "base_uri": "https://localhost:8080/",
          "height": 206
        },
        "id": "AWSO5VbYCls8",
        "outputId": "eba732a4-cc36-4e73-e1f3-45ab911c5984"
      },
      "execution_count": null,
      "outputs": [
        {
          "output_type": "execute_result",
          "data": {
            "text/plain": [
              "                 payCardName payCardSex  payCardBirthDate\n",
              "4106   R. Lili Permata, S.E.          F              2012\n",
              "20322         Catur Najmudin          F              2012\n",
              "36527          Rahmi Saptono          F              2012\n",
              "10122        Puspa Sihombing          F              2012\n",
              "14649    Sutan Nasim Saragih          F              2012"
            ],
            "text/html": [
              "\n",
              "  <div id=\"df-c2b77391-ac1d-43ec-a1d8-270871ee6322\" class=\"colab-df-container\">\n",
              "    <div>\n",
              "<style scoped>\n",
              "    .dataframe tbody tr th:only-of-type {\n",
              "        vertical-align: middle;\n",
              "    }\n",
              "\n",
              "    .dataframe tbody tr th {\n",
              "        vertical-align: top;\n",
              "    }\n",
              "\n",
              "    .dataframe thead th {\n",
              "        text-align: right;\n",
              "    }\n",
              "</style>\n",
              "<table border=\"1\" class=\"dataframe\">\n",
              "  <thead>\n",
              "    <tr style=\"text-align: right;\">\n",
              "      <th></th>\n",
              "      <th>payCardName</th>\n",
              "      <th>payCardSex</th>\n",
              "      <th>payCardBirthDate</th>\n",
              "    </tr>\n",
              "  </thead>\n",
              "  <tbody>\n",
              "    <tr>\n",
              "      <th>4106</th>\n",
              "      <td>R. Lili Permata, S.E.</td>\n",
              "      <td>F</td>\n",
              "      <td>2012</td>\n",
              "    </tr>\n",
              "    <tr>\n",
              "      <th>20322</th>\n",
              "      <td>Catur Najmudin</td>\n",
              "      <td>F</td>\n",
              "      <td>2012</td>\n",
              "    </tr>\n",
              "    <tr>\n",
              "      <th>36527</th>\n",
              "      <td>Rahmi Saptono</td>\n",
              "      <td>F</td>\n",
              "      <td>2012</td>\n",
              "    </tr>\n",
              "    <tr>\n",
              "      <th>10122</th>\n",
              "      <td>Puspa Sihombing</td>\n",
              "      <td>F</td>\n",
              "      <td>2012</td>\n",
              "    </tr>\n",
              "    <tr>\n",
              "      <th>14649</th>\n",
              "      <td>Sutan Nasim Saragih</td>\n",
              "      <td>F</td>\n",
              "      <td>2012</td>\n",
              "    </tr>\n",
              "  </tbody>\n",
              "</table>\n",
              "</div>\n",
              "    <div class=\"colab-df-buttons\">\n",
              "\n",
              "  <div class=\"colab-df-container\">\n",
              "    <button class=\"colab-df-convert\" onclick=\"convertToInteractive('df-c2b77391-ac1d-43ec-a1d8-270871ee6322')\"\n",
              "            title=\"Convert this dataframe to an interactive table.\"\n",
              "            style=\"display:none;\">\n",
              "\n",
              "  <svg xmlns=\"http://www.w3.org/2000/svg\" height=\"24px\" viewBox=\"0 -960 960 960\">\n",
              "    <path d=\"M120-120v-720h720v720H120Zm60-500h600v-160H180v160Zm220 220h160v-160H400v160Zm0 220h160v-160H400v160ZM180-400h160v-160H180v160Zm440 0h160v-160H620v160ZM180-180h160v-160H180v160Zm440 0h160v-160H620v160Z\"/>\n",
              "  </svg>\n",
              "    </button>\n",
              "\n",
              "  <style>\n",
              "    .colab-df-container {\n",
              "      display:flex;\n",
              "      gap: 12px;\n",
              "    }\n",
              "\n",
              "    .colab-df-convert {\n",
              "      background-color: #E8F0FE;\n",
              "      border: none;\n",
              "      border-radius: 50%;\n",
              "      cursor: pointer;\n",
              "      display: none;\n",
              "      fill: #1967D2;\n",
              "      height: 32px;\n",
              "      padding: 0 0 0 0;\n",
              "      width: 32px;\n",
              "    }\n",
              "\n",
              "    .colab-df-convert:hover {\n",
              "      background-color: #E2EBFA;\n",
              "      box-shadow: 0px 1px 2px rgba(60, 64, 67, 0.3), 0px 1px 3px 1px rgba(60, 64, 67, 0.15);\n",
              "      fill: #174EA6;\n",
              "    }\n",
              "\n",
              "    .colab-df-buttons div {\n",
              "      margin-bottom: 4px;\n",
              "    }\n",
              "\n",
              "    [theme=dark] .colab-df-convert {\n",
              "      background-color: #3B4455;\n",
              "      fill: #D2E3FC;\n",
              "    }\n",
              "\n",
              "    [theme=dark] .colab-df-convert:hover {\n",
              "      background-color: #434B5C;\n",
              "      box-shadow: 0px 1px 3px 1px rgba(0, 0, 0, 0.15);\n",
              "      filter: drop-shadow(0px 1px 2px rgba(0, 0, 0, 0.3));\n",
              "      fill: #FFFFFF;\n",
              "    }\n",
              "  </style>\n",
              "\n",
              "    <script>\n",
              "      const buttonEl =\n",
              "        document.querySelector('#df-c2b77391-ac1d-43ec-a1d8-270871ee6322 button.colab-df-convert');\n",
              "      buttonEl.style.display =\n",
              "        google.colab.kernel.accessAllowed ? 'block' : 'none';\n",
              "\n",
              "      async function convertToInteractive(key) {\n",
              "        const element = document.querySelector('#df-c2b77391-ac1d-43ec-a1d8-270871ee6322');\n",
              "        const dataTable =\n",
              "          await google.colab.kernel.invokeFunction('convertToInteractive',\n",
              "                                                    [key], {});\n",
              "        if (!dataTable) return;\n",
              "\n",
              "        const docLinkHtml = 'Like what you see? Visit the ' +\n",
              "          '<a target=\"_blank\" href=https://colab.research.google.com/notebooks/data_table.ipynb>data table notebook</a>'\n",
              "          + ' to learn more about interactive tables.';\n",
              "        element.innerHTML = '';\n",
              "        dataTable['output_type'] = 'display_data';\n",
              "        await google.colab.output.renderOutput(dataTable, element);\n",
              "        const docLink = document.createElement('div');\n",
              "        docLink.innerHTML = docLinkHtml;\n",
              "        element.appendChild(docLink);\n",
              "      }\n",
              "    </script>\n",
              "  </div>\n",
              "\n",
              "\n",
              "<div id=\"df-c86365c9-c3d8-4f1c-8ef7-fa7504712bf3\">\n",
              "  <button class=\"colab-df-quickchart\" onclick=\"quickchart('df-c86365c9-c3d8-4f1c-8ef7-fa7504712bf3')\"\n",
              "            title=\"Suggest charts\"\n",
              "            style=\"display:none;\">\n",
              "\n",
              "<svg xmlns=\"http://www.w3.org/2000/svg\" height=\"24px\"viewBox=\"0 0 24 24\"\n",
              "     width=\"24px\">\n",
              "    <g>\n",
              "        <path d=\"M19 3H5c-1.1 0-2 .9-2 2v14c0 1.1.9 2 2 2h14c1.1 0 2-.9 2-2V5c0-1.1-.9-2-2-2zM9 17H7v-7h2v7zm4 0h-2V7h2v10zm4 0h-2v-4h2v4z\"/>\n",
              "    </g>\n",
              "</svg>\n",
              "  </button>\n",
              "\n",
              "<style>\n",
              "  .colab-df-quickchart {\n",
              "      --bg-color: #E8F0FE;\n",
              "      --fill-color: #1967D2;\n",
              "      --hover-bg-color: #E2EBFA;\n",
              "      --hover-fill-color: #174EA6;\n",
              "      --disabled-fill-color: #AAA;\n",
              "      --disabled-bg-color: #DDD;\n",
              "  }\n",
              "\n",
              "  [theme=dark] .colab-df-quickchart {\n",
              "      --bg-color: #3B4455;\n",
              "      --fill-color: #D2E3FC;\n",
              "      --hover-bg-color: #434B5C;\n",
              "      --hover-fill-color: #FFFFFF;\n",
              "      --disabled-bg-color: #3B4455;\n",
              "      --disabled-fill-color: #666;\n",
              "  }\n",
              "\n",
              "  .colab-df-quickchart {\n",
              "    background-color: var(--bg-color);\n",
              "    border: none;\n",
              "    border-radius: 50%;\n",
              "    cursor: pointer;\n",
              "    display: none;\n",
              "    fill: var(--fill-color);\n",
              "    height: 32px;\n",
              "    padding: 0;\n",
              "    width: 32px;\n",
              "  }\n",
              "\n",
              "  .colab-df-quickchart:hover {\n",
              "    background-color: var(--hover-bg-color);\n",
              "    box-shadow: 0 1px 2px rgba(60, 64, 67, 0.3), 0 1px 3px 1px rgba(60, 64, 67, 0.15);\n",
              "    fill: var(--button-hover-fill-color);\n",
              "  }\n",
              "\n",
              "  .colab-df-quickchart-complete:disabled,\n",
              "  .colab-df-quickchart-complete:disabled:hover {\n",
              "    background-color: var(--disabled-bg-color);\n",
              "    fill: var(--disabled-fill-color);\n",
              "    box-shadow: none;\n",
              "  }\n",
              "\n",
              "  .colab-df-spinner {\n",
              "    border: 2px solid var(--fill-color);\n",
              "    border-color: transparent;\n",
              "    border-bottom-color: var(--fill-color);\n",
              "    animation:\n",
              "      spin 1s steps(1) infinite;\n",
              "  }\n",
              "\n",
              "  @keyframes spin {\n",
              "    0% {\n",
              "      border-color: transparent;\n",
              "      border-bottom-color: var(--fill-color);\n",
              "      border-left-color: var(--fill-color);\n",
              "    }\n",
              "    20% {\n",
              "      border-color: transparent;\n",
              "      border-left-color: var(--fill-color);\n",
              "      border-top-color: var(--fill-color);\n",
              "    }\n",
              "    30% {\n",
              "      border-color: transparent;\n",
              "      border-left-color: var(--fill-color);\n",
              "      border-top-color: var(--fill-color);\n",
              "      border-right-color: var(--fill-color);\n",
              "    }\n",
              "    40% {\n",
              "      border-color: transparent;\n",
              "      border-right-color: var(--fill-color);\n",
              "      border-top-color: var(--fill-color);\n",
              "    }\n",
              "    60% {\n",
              "      border-color: transparent;\n",
              "      border-right-color: var(--fill-color);\n",
              "    }\n",
              "    80% {\n",
              "      border-color: transparent;\n",
              "      border-right-color: var(--fill-color);\n",
              "      border-bottom-color: var(--fill-color);\n",
              "    }\n",
              "    90% {\n",
              "      border-color: transparent;\n",
              "      border-bottom-color: var(--fill-color);\n",
              "    }\n",
              "  }\n",
              "</style>\n",
              "\n",
              "  <script>\n",
              "    async function quickchart(key) {\n",
              "      const quickchartButtonEl =\n",
              "        document.querySelector('#' + key + ' button');\n",
              "      quickchartButtonEl.disabled = true;  // To prevent multiple clicks.\n",
              "      quickchartButtonEl.classList.add('colab-df-spinner');\n",
              "      try {\n",
              "        const charts = await google.colab.kernel.invokeFunction(\n",
              "            'suggestCharts', [key], {});\n",
              "      } catch (error) {\n",
              "        console.error('Error during call to suggestCharts:', error);\n",
              "      }\n",
              "      quickchartButtonEl.classList.remove('colab-df-spinner');\n",
              "      quickchartButtonEl.classList.add('colab-df-quickchart-complete');\n",
              "    }\n",
              "    (() => {\n",
              "      let quickchartButtonEl =\n",
              "        document.querySelector('#df-c86365c9-c3d8-4f1c-8ef7-fa7504712bf3 button');\n",
              "      quickchartButtonEl.style.display =\n",
              "        google.colab.kernel.accessAllowed ? 'block' : 'none';\n",
              "    })();\n",
              "  </script>\n",
              "</div>\n",
              "    </div>\n",
              "  </div>\n"
            ],
            "application/vnd.google.colaboratory.intrinsic+json": {
              "type": "dataframe",
              "variable_name": "Data_Female",
              "summary": "{\n  \"name\": \"Data_Female\",\n  \"rows\": 5,\n  \"fields\": [\n    {\n      \"column\": \"payCardName\",\n      \"properties\": {\n        \"dtype\": \"string\",\n        \"num_unique_values\": 5,\n        \"samples\": [\n          \"Catur Najmudin\",\n          \"Sutan Nasim Saragih\",\n          \"Rahmi Saptono\"\n        ],\n        \"semantic_type\": \"\",\n        \"description\": \"\"\n      }\n    },\n    {\n      \"column\": \"payCardSex\",\n      \"properties\": {\n        \"dtype\": \"category\",\n        \"num_unique_values\": 1,\n        \"samples\": [\n          \"F\"\n        ],\n        \"semantic_type\": \"\",\n        \"description\": \"\"\n      }\n    },\n    {\n      \"column\": \"payCardBirthDate\",\n      \"properties\": {\n        \"dtype\": \"number\",\n        \"std\": 0,\n        \"min\": 2012,\n        \"max\": 2012,\n        \"num_unique_values\": 1,\n        \"samples\": [\n          2012\n        ],\n        \"semantic_type\": \"\",\n        \"description\": \"\"\n      }\n    }\n  ]\n}"
            }
          },
          "metadata": {},
          "execution_count": 7
        }
      ]
    },
    {
      "cell_type": "markdown",
      "source": [
        "# membuat kolom baru 'umur' tahun 2024 dan jumlah transaksi yang dilakukan oleh penumpang pensiun (>55 tahun) lalu tuliskan juga jumlah masing-masing\n",
        "transaksi perempuan dan laki-laki."
      ],
      "metadata": {
        "id": "X29wXH5iMzQX"
      }
    },
    {
      "cell_type": "code",
      "source": [
        "df_add = df.copy()\n",
        "df_add.head()"
      ],
      "metadata": {
        "id": "yG_cclRgg84M"
      },
      "execution_count": null,
      "outputs": []
    },
    {
      "cell_type": "code",
      "source": [
        "import pandas as pd\n",
        "\n",
        "from datetime import datetime\n",
        "# menambahkan satuan kolom umur\n",
        "tahun_2024 = datetime.now().year\n",
        "df[\"Age\"] = tahun_2024 - df[\"payCardBirthDate\"]\n",
        "\n",
        "# menghitung jumlah transaksi penumpang\n",
        "jumlah_pensiun = (df[\"Age\"] > 55). sum()\n",
        "jumlah_transaksi_laki_laki = df[(df[\"payCardSex\"] == \"M\")& (df[\"Age\"] > 55)].shape[0]\n",
        "jumlah_transaksi_perempuan = df[(df[\"payCardSex\"] == \"F\")& (df[\"Age\"] > 55)].shape[0]\n",
        "\n",
        "# cetak\n",
        "print(df[\"Age\"])\n",
        "print(\"=\"*100,\"\\n\",\n",
        "      \"\\nJumlah transaksi oleh penumpang yang sudah pensiun (Age > 55 tahun):\", jumlah_pensiun,\n",
        "      \"\\nJumlah transaksi penumpang laki-laki:\", jumlah_transaksi_laki_laki,\n",
        "      \"\\nJumlah transaksi penumpang perempuan:\", jumlah_transaksi_perempuan)"
      ],
      "metadata": {
        "id": "1UryiCf3Cu8Y",
        "colab": {
          "base_uri": "https://localhost:8080/"
        },
        "outputId": "f7f5836e-c294-44c5-8a55-391cd7de84ed"
      },
      "execution_count": null,
      "outputs": [
        {
          "output_type": "stream",
          "name": "stdout",
          "text": [
            "0        16\n",
            "1        27\n",
            "2        32\n",
            "3        46\n",
            "4        42\n",
            "         ..\n",
            "37895    20\n",
            "37896    50\n",
            "37897    48\n",
            "37898    48\n",
            "37899    39\n",
            "Name: Age, Length: 37900, dtype: int64\n",
            "==================================================================================================== \n",
            " \n",
            "Jumlah transaksi oleh penumpang yang sudah pensiun (Age > 55 tahun): 2438 \n",
            "Jumlah transaksi penumpang laki-laki: 1783 \n",
            "Jumlah transaksi penumpang perempuan: 655\n"
          ]
        }
      ]
    },
    {
      "cell_type": "markdown",
      "source": [
        "# Menampilkan data transaksi pertama dengan berpacu pada tapInTime menggunalan fungsi iloc"
      ],
      "metadata": {
        "id": "Mo79gpxRMtEf"
      }
    },
    {
      "cell_type": "code",
      "source": [
        "\n",
        "detail = df.sort_values(by = \"tapInTime\").iloc[0]\n",
        "print(detail)"
      ],
      "metadata": {
        "colab": {
          "base_uri": "https://localhost:8080/"
        },
        "id": "x5IyYuqyDdY9",
        "outputId": "8b43a3f4-2c17-4d78-95d8-57feebbfc970"
      },
      "execution_count": null,
      "outputs": [
        {
          "output_type": "stream",
          "name": "stdout",
          "text": [
            "transID                                  LDEA875J4U32YZ\n",
            "payCardID                               213107623841273\n",
            "payCardBank                                      emoney\n",
            "payCardName                             Natalia Pratama\n",
            "payCardSex                                            M\n",
            "payCardBirthDate                                   1964\n",
            "corridorID                                          11D\n",
            "corridorName        Pulo Gebang - Pulo Gadung 2 via PIK\n",
            "direction                                           0.0\n",
            "tapInStops                                      B05823P\n",
            "tapInStopsName                        United Tractors 1\n",
            "tapInStopsLat                                  -6.18326\n",
            "tapInStopsLon                                 106.93243\n",
            "stopStartSeq                                         28\n",
            "tapInTime                           2023-04-01 06:22:27\n",
            "tapOutStops                                     B03090P\n",
            "tapOutStopsName                       Raya Penggilingan\n",
            "tapOutStopsLat                                -6.183068\n",
            "tapOutStopsLon                                106.93194\n",
            "stopEndSeq                                         29.0\n",
            "tapOutTime                          2023-04-01 08:15:45\n",
            "payAmount                                        3500.0\n",
            "Age                                                  60\n",
            "Name: 37751, dtype: object\n"
          ]
        }
      ]
    },
    {
      "cell_type": "code",
      "source": [
        "# temukan transaksi gratis (0 rupiah)\n",
        "transaksi_gratis= (df['payAmount'] == 0).sum()\n",
        "\n",
        "# temukan penumpang yang melakukan transaksi perjalanan dengan jumlah pemberhentian terbanyak\n",
        "df['Banyaknya_pemberhentian'] = df['stopEndSeq'] - df['stopStartSeq']\n",
        "sortir_pemberhentian = df.sort_values(by='Banyaknya_pemberhentian', ascending=False)\n",
        "transaksi_pemberhentian_terbanyak = sortir_pemberhentian.iloc[0]\n",
        "\n",
        "# cetak hasil\n",
        "print(\"Jumlah banyaknya transaksi gratis =\",transaksi_gratis)\n",
        "print(\"Informasi tentang penumpang dengan transaksi paling banyak pemberhentian:\")\n",
        "print(\"Nama Penumpang:\", transaksi_pemberhentian_terbanyak[\"payCardName\"])\n",
        "print(\"Rute Perjalanan:\", [transaksi_pemberhentian_terbanyak[\"tapInStopsName\"],transaksi_pemberhentian_terbanyak[\"tapOutStopsName\"]])\n",
        "print(\"Total Pemberhentian:\",transaksi_pemberhentian_terbanyak[\"Banyaknya_pemberhentian\"])"
      ],
      "metadata": {
        "colab": {
          "base_uri": "https://localhost:8080/"
        },
        "id": "qTTAXQw2otXq",
        "outputId": "f655e840-6223-4996-ecbb-bfb1605e1580"
      },
      "execution_count": null,
      "outputs": [
        {
          "output_type": "stream",
          "name": "stdout",
          "text": [
            "Jumlah banyaknya transaksi gratis = 16648\n",
            "Informasi tentang penumpang dengan transaksi paling banyak pemberhentian:\n",
            "Nama Penumpang: Karen Pertiwi\n",
            "Rute Perjalanan: ['RS Pelabuhan Jakarta', 'Kel. Rorotan']\n",
            "Total Pemberhentian: 64.0\n"
          ]
        }
      ]
    },
    {
      "cell_type": "markdown",
      "source": [
        "# menampilkan biaya yang dikeluarkan dan rute perjalanan untuk transaksi dengan jarak, tempuh terlama dan jumlah pemberhentian terbanyak"
      ],
      "metadata": {
        "id": "naF8j8pXO7z2"
      }
    },
    {
      "cell_type": "code",
      "source": [
        "# temukan transaksi dengan jarak tempuh terlama dengan menggunakan kolom tapInTime dan tapOutTime untuk mengetahui waktu terlama\n",
        "df[\"tapInTime\"] = pd.to_datetime(df[\"tapInTime\"])\n",
        "df[\"tapOutTime\"] = pd.to_datetime(df[\"tapOutTime\"])\n",
        "df[\"durasi\"] = (df[\"tapOutTime\"] - df[\"tapInTime\"]).dt.total_seconds()\n",
        "\n",
        "# hitung jumlah pemberhentian\n",
        "df[\"jumlah_pemberhentian\"] = df[\"stopEndSeq\"] - df[\"stopStartSeq\"]\n",
        "\n",
        "# mensortir berdasarkan kolom durasi(jarak tempuh terlama) dan jumlah pemberhentian\n",
        "df = df.sort_values (by=[\"durasi\", \"jumlah_pemberhentian\"], ascending = [False, False]).reset_index(drop=True)\n",
        "jumlah_pemberhentian = df.loc[0, \"jumlah_pemberhentian\"]\n",
        "rute_terlama = [df.loc[0, \"tapInStopsName\"], df.loc[0, \"tapOutStopsName\"]]\n",
        "biaya = df.loc[0, \"payAmount\"]\n",
        "\n",
        "# cetak hasil\n",
        "print(\"Biaya perjalanan untuk transaksi dengan jarak tempuh terlama yang dikeluarkan sebanyak:\", biaya, \"rupiah\")\n",
        "print(\"Rute perjalanan untuk transaksi dengan jarak tempuh terlama:\", rute_terlama)\n",
        "print(\"Rute perjalanan untuk transaksi dengan jumlah pemberhentian terbanyak :\", jumlah_pemberhentian, \"kali pemberhentian\")"
      ],
      "metadata": {
        "colab": {
          "base_uri": "https://localhost:8080/"
        },
        "id": "5hJjtC1Y3_0j",
        "outputId": "b2428f18-0eb1-4ae6-926a-90cb87080cdd"
      },
      "execution_count": null,
      "outputs": [
        {
          "output_type": "stream",
          "name": "stdout",
          "text": [
            "Biaya perjalanan untuk transaksi dengan jarak tempuh terlama yang dikeluarkan sebanyak: 3500.0 rupiah\n",
            "Rute perjalanan untuk transaksi dengan jarak tempuh terlama: ['Sbr. Jln. H. Ung', 'Jembatan Item']\n",
            "Rute perjalanan untuk transaksi dengan jumlah pemberhentian terbanyak : 12.0 kali pemberhentian\n"
          ]
        }
      ]
    }
  ]
}